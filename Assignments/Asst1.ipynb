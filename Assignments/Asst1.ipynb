{
 "cells": [
  {
   "cell_type": "code",
   "execution_count": 1,
   "metadata": {},
   "outputs": [
    {
     "name": "stdout",
     "output_type": "stream",
     "text": [
      "Enter your name: Shubhra\n",
      "Enter your age: 21\n",
      "Enter number of copies of the message to be printed: 5\n",
      "Shubhra will turn 100 in the year 2100\n",
      "Shubhra will turn 100 in the year 2100\n",
      "Shubhra will turn 100 in the year 2100\n",
      "Shubhra will turn 100 in the year 2100\n",
      "Shubhra will turn 100 in the year 2100\n",
      "\n"
     ]
    }
   ],
   "source": [
    "name = input(\"Enter your name: \")\n",
    "age = int(input(\"Enter your age: \"))\n",
    "year = 2021 - age + 100\n",
    "num = int(input(\"Enter number of copies of the message to be printed: \"))\n",
    "outputStr = name + \" will turn 100 in the year \" + str(year) + \"\\n\" \n",
    "print(outputStr*num)"
   ]
  },
  {
   "cell_type": "code",
   "execution_count": 2,
   "metadata": {},
   "outputs": [
    {
     "name": "stdout",
     "output_type": "stream",
     "text": [
      "Enter upper limit for list: 20\n",
      "[1, 1, 2, 3, 5, 8, 13]\n"
     ]
    }
   ],
   "source": [
    "a = [1, 1, 2, 3, 5, 8, 13, 21, 34, 55, 89]\n",
    "n = int(input(\"Enter upper limit for list: \"))\n",
    "res = [x for x in a if x < n]\n",
    "print(res)"
   ]
  },
  {
   "cell_type": "code",
   "execution_count": 3,
   "metadata": {},
   "outputs": [
    {
     "name": "stdout",
     "output_type": "stream",
     "text": [
      "Enter no. of terms for fibonacci sequence: 11\n",
      "1 1 2 3 5 8 13 21 34 55 89 "
     ]
    }
   ],
   "source": [
    "def fibonacci(n):\n",
    "    a = 1\n",
    "    b = 1\n",
    "    if (n < 1):\n",
    "        return\n",
    "    print(a, end=\" \")\n",
    "    for i in range(1, n):\n",
    "        print(b, end=\" \")\n",
    "        c = a + b\n",
    "        a = b\n",
    "        b = c\n",
    "n = int(input(\"Enter no. of terms for fibonacci sequence: \"))\n",
    "fibonacci(n)"
   ]
  },
  {
   "cell_type": "code",
   "execution_count": 4,
   "metadata": {},
   "outputs": [
    {
     "name": "stdout",
     "output_type": "stream",
     "text": [
      "[1, 2, 3, 5, 8, 13, 21, 34, 55, 89]\n",
      "[1, 2, 3, 34, 5, 8, 13, 21, 55, 89]\n"
     ]
    }
   ],
   "source": [
    "def removeDuplicatesOne(lst):\n",
    "    res = []\n",
    "    for el in lst:\n",
    "        if not el in res:\n",
    "            res.append(el)\n",
    "    return res\n",
    "def removeDuplicatesTwo(lst):\n",
    "    resSet = set(lst)\n",
    "    return list(resSet)\n",
    "\n",
    "print(removeDuplicatesOne([1, 1, 2, 3, 5, 8, 13, 21, 34, 55, 8, 89, 2, 3]))\n",
    "print(removeDuplicatesTwo([1, 1, 2, 3, 5, 8, 13, 21, 34, 55, 8, 89, 2, 3]))"
   ]
  },
  {
   "cell_type": "code",
   "execution_count": 5,
   "metadata": {},
   "outputs": [
    {
     "name": "stdout",
     "output_type": "stream",
     "text": [
      "Enter a Number: 47\n",
      "47 is prime.\n"
     ]
    }
   ],
   "source": [
    "def isPrime(num):\n",
    "    if num > 1:\n",
    "        for i in range(2, (num // 2) + 1):\n",
    "            if (num % i) == 0:\n",
    "                return False\n",
    "        return True\n",
    "    return False\n",
    "num = int(input(\"Enter a Number: \"))\n",
    "if isPrime(num):\n",
    "    print(num, \"is prime.\")\n",
    "else:\n",
    "    print(num, \"is not prime.\")"
   ]
  }
 ],
 "metadata": {
  "kernelspec": {
   "display_name": "Python [conda env:root] *",
   "language": "python",
   "name": "conda-root-py"
  },
  "language_info": {
   "codemirror_mode": {
    "name": "ipython",
    "version": 3
   },
   "file_extension": ".py",
   "mimetype": "text/x-python",
   "name": "python",
   "nbconvert_exporter": "python",
   "pygments_lexer": "ipython3",
   "version": "3.7.4"
  }
 },
 "nbformat": 4,
 "nbformat_minor": 2
}
